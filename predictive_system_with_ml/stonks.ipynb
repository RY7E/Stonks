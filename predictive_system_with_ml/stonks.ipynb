{
 "cells": [
  {
   "cell_type": "code",
   "execution_count": 143,
   "metadata": {},
   "outputs": [],
   "source": [
    "import time\n",
    "import datetime\n",
    "import pandas as pd"
   ]
  },
  {
   "cell_type": "code",
   "execution_count": 144,
   "metadata": {},
   "outputs": [],
   "source": [
    "ticker = 'AMZN'\n",
    "period1 = int(time.mktime(datetime.datetime(2022, 12, 1, 23, 59).timetuple()))\n",
    "period2 = int(time.mktime(datetime.datetime.now().timetuple()))\n",
    "interval = '1d'\n",
    "\n",
    "query_string = f'https://query1.finance.yahoo.com/v7/finance/download/{ticker}?period1={period1}&period2={period2}&interval={interval}&events=history&includeAdjustedClose=true'\n",
    "\n",
    "df = pd.read_csv(query_string)"
   ]
  },
  {
   "cell_type": "code",
   "execution_count": 177,
   "metadata": {},
   "outputs": [
    {
     "data": {
      "text/plain": [
       "'https://query1.finance.yahoo.com/v7/finance/download/AMZN?period1=1669919340&period2=1695928592&interval=1d&events=history&includeAdjustedClose=true'"
      ]
     },
     "execution_count": 177,
     "metadata": {},
     "output_type": "execute_result"
    }
   ],
   "source": [
    "query_string"
   ]
  },
  {
   "cell_type": "code",
   "execution_count": 145,
   "metadata": {},
   "outputs": [
    {
     "data": {
      "text/plain": [
       "time.struct_time(tm_year=2023, tm_mon=9, tm_mday=29, tm_hour=0, tm_min=46, tm_sec=32, tm_wday=4, tm_yday=272, tm_isdst=-1)"
      ]
     },
     "execution_count": 145,
     "metadata": {},
     "output_type": "execute_result"
    }
   ],
   "source": [
    "datetime.datetime.now().timetuple()"
   ]
  },
  {
   "cell_type": "code",
   "execution_count": 146,
   "metadata": {},
   "outputs": [],
   "source": [
    "date = df"
   ]
  },
  {
   "cell_type": "code",
   "execution_count": 147,
   "metadata": {},
   "outputs": [
    {
     "data": {
      "text/html": [
       "<div>\n",
       "<style scoped>\n",
       "    .dataframe tbody tr th:only-of-type {\n",
       "        vertical-align: middle;\n",
       "    }\n",
       "\n",
       "    .dataframe tbody tr th {\n",
       "        vertical-align: top;\n",
       "    }\n",
       "\n",
       "    .dataframe thead th {\n",
       "        text-align: right;\n",
       "    }\n",
       "</style>\n",
       "<table border=\"1\" class=\"dataframe\">\n",
       "  <thead>\n",
       "    <tr style=\"text-align: right;\">\n",
       "      <th></th>\n",
       "      <th>Date</th>\n",
       "      <th>Open</th>\n",
       "      <th>High</th>\n",
       "      <th>Low</th>\n",
       "      <th>Close</th>\n",
       "      <th>Adj Close</th>\n",
       "      <th>Volume</th>\n",
       "    </tr>\n",
       "  </thead>\n",
       "  <tbody>\n",
       "    <tr>\n",
       "      <th>0</th>\n",
       "      <td>2022-12-01</td>\n",
       "      <td>96.989998</td>\n",
       "      <td>97.230003</td>\n",
       "      <td>94.919998</td>\n",
       "      <td>95.500000</td>\n",
       "      <td>95.500000</td>\n",
       "      <td>68488000</td>\n",
       "    </tr>\n",
       "    <tr>\n",
       "      <th>1</th>\n",
       "      <td>2022-12-02</td>\n",
       "      <td>94.480003</td>\n",
       "      <td>95.360001</td>\n",
       "      <td>93.779999</td>\n",
       "      <td>94.129997</td>\n",
       "      <td>94.129997</td>\n",
       "      <td>72496400</td>\n",
       "    </tr>\n",
       "    <tr>\n",
       "      <th>2</th>\n",
       "      <td>2022-12-05</td>\n",
       "      <td>93.050003</td>\n",
       "      <td>94.059998</td>\n",
       "      <td>90.820000</td>\n",
       "      <td>91.010002</td>\n",
       "      <td>91.010002</td>\n",
       "      <td>71535500</td>\n",
       "    </tr>\n",
       "    <tr>\n",
       "      <th>3</th>\n",
       "      <td>2022-12-06</td>\n",
       "      <td>90.500000</td>\n",
       "      <td>91.040001</td>\n",
       "      <td>87.900002</td>\n",
       "      <td>88.250000</td>\n",
       "      <td>88.250000</td>\n",
       "      <td>75503600</td>\n",
       "    </tr>\n",
       "    <tr>\n",
       "      <th>4</th>\n",
       "      <td>2022-12-07</td>\n",
       "      <td>88.339996</td>\n",
       "      <td>89.889999</td>\n",
       "      <td>87.480003</td>\n",
       "      <td>88.459999</td>\n",
       "      <td>88.459999</td>\n",
       "      <td>68086900</td>\n",
       "    </tr>\n",
       "    <tr>\n",
       "      <th>...</th>\n",
       "      <td>...</td>\n",
       "      <td>...</td>\n",
       "      <td>...</td>\n",
       "      <td>...</td>\n",
       "      <td>...</td>\n",
       "      <td>...</td>\n",
       "      <td>...</td>\n",
       "    </tr>\n",
       "    <tr>\n",
       "      <th>202</th>\n",
       "      <td>2023-09-22</td>\n",
       "      <td>131.110001</td>\n",
       "      <td>132.029999</td>\n",
       "      <td>128.520004</td>\n",
       "      <td>129.119995</td>\n",
       "      <td>129.119995</td>\n",
       "      <td>59859500</td>\n",
       "    </tr>\n",
       "    <tr>\n",
       "      <th>203</th>\n",
       "      <td>2023-09-25</td>\n",
       "      <td>129.360001</td>\n",
       "      <td>131.779999</td>\n",
       "      <td>128.770004</td>\n",
       "      <td>131.270004</td>\n",
       "      <td>131.270004</td>\n",
       "      <td>46017800</td>\n",
       "    </tr>\n",
       "    <tr>\n",
       "      <th>204</th>\n",
       "      <td>2023-09-26</td>\n",
       "      <td>130.119995</td>\n",
       "      <td>130.389999</td>\n",
       "      <td>125.279999</td>\n",
       "      <td>125.980003</td>\n",
       "      <td>125.980003</td>\n",
       "      <td>73048200</td>\n",
       "    </tr>\n",
       "    <tr>\n",
       "      <th>205</th>\n",
       "      <td>2023-09-27</td>\n",
       "      <td>125.760002</td>\n",
       "      <td>127.480003</td>\n",
       "      <td>124.129997</td>\n",
       "      <td>125.980003</td>\n",
       "      <td>125.980003</td>\n",
       "      <td>66553400</td>\n",
       "    </tr>\n",
       "    <tr>\n",
       "      <th>206</th>\n",
       "      <td>2023-09-28</td>\n",
       "      <td>124.040001</td>\n",
       "      <td>126.580101</td>\n",
       "      <td>123.040001</td>\n",
       "      <td>126.250000</td>\n",
       "      <td>126.250000</td>\n",
       "      <td>45044413</td>\n",
       "    </tr>\n",
       "  </tbody>\n",
       "</table>\n",
       "<p>207 rows × 7 columns</p>\n",
       "</div>"
      ],
      "text/plain": [
       "           Date        Open        High         Low       Close   Adj Close   \n",
       "0    2022-12-01   96.989998   97.230003   94.919998   95.500000   95.500000  \\\n",
       "1    2022-12-02   94.480003   95.360001   93.779999   94.129997   94.129997   \n",
       "2    2022-12-05   93.050003   94.059998   90.820000   91.010002   91.010002   \n",
       "3    2022-12-06   90.500000   91.040001   87.900002   88.250000   88.250000   \n",
       "4    2022-12-07   88.339996   89.889999   87.480003   88.459999   88.459999   \n",
       "..          ...         ...         ...         ...         ...         ...   \n",
       "202  2023-09-22  131.110001  132.029999  128.520004  129.119995  129.119995   \n",
       "203  2023-09-25  129.360001  131.779999  128.770004  131.270004  131.270004   \n",
       "204  2023-09-26  130.119995  130.389999  125.279999  125.980003  125.980003   \n",
       "205  2023-09-27  125.760002  127.480003  124.129997  125.980003  125.980003   \n",
       "206  2023-09-28  124.040001  126.580101  123.040001  126.250000  126.250000   \n",
       "\n",
       "       Volume  \n",
       "0    68488000  \n",
       "1    72496400  \n",
       "2    71535500  \n",
       "3    75503600  \n",
       "4    68086900  \n",
       "..        ...  \n",
       "202  59859500  \n",
       "203  46017800  \n",
       "204  73048200  \n",
       "205  66553400  \n",
       "206  45044413  \n",
       "\n",
       "[207 rows x 7 columns]"
      ]
     },
     "execution_count": 147,
     "metadata": {},
     "output_type": "execute_result"
    }
   ],
   "source": [
    "date"
   ]
  },
  {
   "cell_type": "code",
   "execution_count": 148,
   "metadata": {},
   "outputs": [
    {
     "data": {
      "text/html": [
       "<div>\n",
       "<style scoped>\n",
       "    .dataframe tbody tr th:only-of-type {\n",
       "        vertical-align: middle;\n",
       "    }\n",
       "\n",
       "    .dataframe tbody tr th {\n",
       "        vertical-align: top;\n",
       "    }\n",
       "\n",
       "    .dataframe thead th {\n",
       "        text-align: right;\n",
       "    }\n",
       "</style>\n",
       "<table border=\"1\" class=\"dataframe\">\n",
       "  <thead>\n",
       "    <tr style=\"text-align: right;\">\n",
       "      <th></th>\n",
       "      <th>Date</th>\n",
       "      <th>Open</th>\n",
       "      <th>High</th>\n",
       "      <th>Low</th>\n",
       "      <th>Close</th>\n",
       "      <th>Adj Close</th>\n",
       "      <th>Volume</th>\n",
       "    </tr>\n",
       "  </thead>\n",
       "  <tbody>\n",
       "    <tr>\n",
       "      <th>0</th>\n",
       "      <td>2022-12-01</td>\n",
       "      <td>96.989998</td>\n",
       "      <td>97.230003</td>\n",
       "      <td>94.919998</td>\n",
       "      <td>95.500000</td>\n",
       "      <td>95.500000</td>\n",
       "      <td>68488000</td>\n",
       "    </tr>\n",
       "    <tr>\n",
       "      <th>1</th>\n",
       "      <td>2022-12-02</td>\n",
       "      <td>94.480003</td>\n",
       "      <td>95.360001</td>\n",
       "      <td>93.779999</td>\n",
       "      <td>94.129997</td>\n",
       "      <td>94.129997</td>\n",
       "      <td>72496400</td>\n",
       "    </tr>\n",
       "    <tr>\n",
       "      <th>2</th>\n",
       "      <td>2022-12-05</td>\n",
       "      <td>93.050003</td>\n",
       "      <td>94.059998</td>\n",
       "      <td>90.820000</td>\n",
       "      <td>91.010002</td>\n",
       "      <td>91.010002</td>\n",
       "      <td>71535500</td>\n",
       "    </tr>\n",
       "    <tr>\n",
       "      <th>3</th>\n",
       "      <td>2022-12-06</td>\n",
       "      <td>90.500000</td>\n",
       "      <td>91.040001</td>\n",
       "      <td>87.900002</td>\n",
       "      <td>88.250000</td>\n",
       "      <td>88.250000</td>\n",
       "      <td>75503600</td>\n",
       "    </tr>\n",
       "    <tr>\n",
       "      <th>4</th>\n",
       "      <td>2022-12-07</td>\n",
       "      <td>88.339996</td>\n",
       "      <td>89.889999</td>\n",
       "      <td>87.480003</td>\n",
       "      <td>88.459999</td>\n",
       "      <td>88.459999</td>\n",
       "      <td>68086900</td>\n",
       "    </tr>\n",
       "    <tr>\n",
       "      <th>...</th>\n",
       "      <td>...</td>\n",
       "      <td>...</td>\n",
       "      <td>...</td>\n",
       "      <td>...</td>\n",
       "      <td>...</td>\n",
       "      <td>...</td>\n",
       "      <td>...</td>\n",
       "    </tr>\n",
       "    <tr>\n",
       "      <th>202</th>\n",
       "      <td>2023-09-22</td>\n",
       "      <td>131.110001</td>\n",
       "      <td>132.029999</td>\n",
       "      <td>128.520004</td>\n",
       "      <td>129.119995</td>\n",
       "      <td>129.119995</td>\n",
       "      <td>59859500</td>\n",
       "    </tr>\n",
       "    <tr>\n",
       "      <th>203</th>\n",
       "      <td>2023-09-25</td>\n",
       "      <td>129.360001</td>\n",
       "      <td>131.779999</td>\n",
       "      <td>128.770004</td>\n",
       "      <td>131.270004</td>\n",
       "      <td>131.270004</td>\n",
       "      <td>46017800</td>\n",
       "    </tr>\n",
       "    <tr>\n",
       "      <th>204</th>\n",
       "      <td>2023-09-26</td>\n",
       "      <td>130.119995</td>\n",
       "      <td>130.389999</td>\n",
       "      <td>125.279999</td>\n",
       "      <td>125.980003</td>\n",
       "      <td>125.980003</td>\n",
       "      <td>73048200</td>\n",
       "    </tr>\n",
       "    <tr>\n",
       "      <th>205</th>\n",
       "      <td>2023-09-27</td>\n",
       "      <td>125.760002</td>\n",
       "      <td>127.480003</td>\n",
       "      <td>124.129997</td>\n",
       "      <td>125.980003</td>\n",
       "      <td>125.980003</td>\n",
       "      <td>66553400</td>\n",
       "    </tr>\n",
       "    <tr>\n",
       "      <th>206</th>\n",
       "      <td>2023-09-28</td>\n",
       "      <td>124.040001</td>\n",
       "      <td>126.580101</td>\n",
       "      <td>123.040001</td>\n",
       "      <td>126.250000</td>\n",
       "      <td>126.250000</td>\n",
       "      <td>45044413</td>\n",
       "    </tr>\n",
       "  </tbody>\n",
       "</table>\n",
       "<p>207 rows × 7 columns</p>\n",
       "</div>"
      ],
      "text/plain": [
       "           Date        Open        High         Low       Close   Adj Close   \n",
       "0    2022-12-01   96.989998   97.230003   94.919998   95.500000   95.500000  \\\n",
       "1    2022-12-02   94.480003   95.360001   93.779999   94.129997   94.129997   \n",
       "2    2022-12-05   93.050003   94.059998   90.820000   91.010002   91.010002   \n",
       "3    2022-12-06   90.500000   91.040001   87.900002   88.250000   88.250000   \n",
       "4    2022-12-07   88.339996   89.889999   87.480003   88.459999   88.459999   \n",
       "..          ...         ...         ...         ...         ...         ...   \n",
       "202  2023-09-22  131.110001  132.029999  128.520004  129.119995  129.119995   \n",
       "203  2023-09-25  129.360001  131.779999  128.770004  131.270004  131.270004   \n",
       "204  2023-09-26  130.119995  130.389999  125.279999  125.980003  125.980003   \n",
       "205  2023-09-27  125.760002  127.480003  124.129997  125.980003  125.980003   \n",
       "206  2023-09-28  124.040001  126.580101  123.040001  126.250000  126.250000   \n",
       "\n",
       "       Volume  \n",
       "0    68488000  \n",
       "1    72496400  \n",
       "2    71535500  \n",
       "3    75503600  \n",
       "4    68086900  \n",
       "..        ...  \n",
       "202  59859500  \n",
       "203  46017800  \n",
       "204  73048200  \n",
       "205  66553400  \n",
       "206  45044413  \n",
       "\n",
       "[207 rows x 7 columns]"
      ]
     },
     "execution_count": 148,
     "metadata": {},
     "output_type": "execute_result"
    }
   ],
   "source": [
    "df"
   ]
  },
  {
   "cell_type": "code",
   "execution_count": 149,
   "metadata": {},
   "outputs": [],
   "source": [
    "import matplotlib.pyplot as plt"
   ]
  },
  {
   "cell_type": "code",
   "execution_count": 150,
   "metadata": {},
   "outputs": [
    {
     "data": {
      "text/plain": [
       "[<matplotlib.lines.Line2D at 0x293bff25490>]"
      ]
     },
     "execution_count": 150,
     "metadata": {},
     "output_type": "execute_result"
    },
    {
     "data": {
      "image/png": "[encoded data removed]",
      "text/plain": [
       "<Figure size 640x480 with 1 Axes>"
      ]
     },
     "metadata": {},
     "output_type": "display_data"
    }
   ],
   "source": [
    "plt.plot(df['Close'])"
   ]
  },
  {
   "cell_type": "code",
   "execution_count": 151,
   "metadata": {},
   "outputs": [],
   "source": [
    "df = df[['Date', 'Close']]"
   ]
  },
  {
   "cell_type": "code",
   "execution_count": 152,
   "metadata": {},
   "outputs": [
    {
     "data": {
      "text/html": [
       "<div>\n",
       "<style scoped>\n",
       "    .dataframe tbody tr th:only-of-type {\n",
       "        vertical-align: middle;\n",
       "    }\n",
       "\n",
       "    .dataframe tbody tr th {\n",
       "        vertical-align: top;\n",
       "    }\n",
       "\n",
       "    .dataframe thead th {\n",
       "        text-align: right;\n",
       "    }\n",
       "</style>\n",
       "<table border=\"1\" class=\"dataframe\">\n",
       "  <thead>\n",
       "    <tr style=\"text-align: right;\">\n",
       "      <th></th>\n",
       "      <th>Date</th>\n",
       "      <th>Close</th>\n",
       "    </tr>\n",
       "  </thead>\n",
       "  <tbody>\n",
       "    <tr>\n",
       "      <th>0</th>\n",
       "      <td>2022-12-01</td>\n",
       "      <td>95.500000</td>\n",
       "    </tr>\n",
       "    <tr>\n",
       "      <th>1</th>\n",
       "      <td>2022-12-02</td>\n",
       "      <td>94.129997</td>\n",
       "    </tr>\n",
       "    <tr>\n",
       "      <th>2</th>\n",
       "      <td>2022-12-05</td>\n",
       "      <td>91.010002</td>\n",
       "    </tr>\n",
       "    <tr>\n",
       "      <th>3</th>\n",
       "      <td>2022-12-06</td>\n",
       "      <td>88.250000</td>\n",
       "    </tr>\n",
       "    <tr>\n",
       "      <th>4</th>\n",
       "      <td>2022-12-07</td>\n",
       "      <td>88.459999</td>\n",
       "    </tr>\n",
       "    <tr>\n",
       "      <th>...</th>\n",
       "      <td>...</td>\n",
       "      <td>...</td>\n",
       "    </tr>\n",
       "    <tr>\n",
       "      <th>202</th>\n",
       "      <td>2023-09-22</td>\n",
       "      <td>129.119995</td>\n",
       "    </tr>\n",
       "    <tr>\n",
       "      <th>203</th>\n",
       "      <td>2023-09-25</td>\n",
       "      <td>131.270004</td>\n",
       "    </tr>\n",
       "    <tr>\n",
       "      <th>204</th>\n",
       "      <td>2023-09-26</td>\n",
       "      <td>125.980003</td>\n",
       "    </tr>\n",
       "    <tr>\n",
       "      <th>205</th>\n",
       "      <td>2023-09-27</td>\n",
       "      <td>125.980003</td>\n",
       "    </tr>\n",
       "    <tr>\n",
       "      <th>206</th>\n",
       "      <td>2023-09-28</td>\n",
       "      <td>126.250000</td>\n",
       "    </tr>\n",
       "  </tbody>\n",
       "</table>\n",
       "<p>207 rows × 2 columns</p>\n",
       "</div>"
      ],
      "text/plain": [
       "           Date       Close\n",
       "0    2022-12-01   95.500000\n",
       "1    2022-12-02   94.129997\n",
       "2    2022-12-05   91.010002\n",
       "3    2022-12-06   88.250000\n",
       "4    2022-12-07   88.459999\n",
       "..          ...         ...\n",
       "202  2023-09-22  129.119995\n",
       "203  2023-09-25  131.270004\n",
       "204  2023-09-26  125.980003\n",
       "205  2023-09-27  125.980003\n",
       "206  2023-09-28  126.250000\n",
       "\n",
       "[207 rows x 2 columns]"
      ]
     },
     "execution_count": 152,
     "metadata": {},
     "output_type": "execute_result"
    }
   ],
   "source": [
    "df"
   ]
  },
  {
   "cell_type": "code",
   "execution_count": 153,
   "metadata": {},
   "outputs": [],
   "source": [
    "def str_to_datetime(s):\n",
    "  split = s.split('-')\n",
    "  year, month, day = int(split[0]), int(split[1]), int(split[2])\n",
    "  return datetime.datetime(year=year, month=month, day=day)\n"
   ]
  },
  {
   "cell_type": "code",
   "execution_count": 154,
   "metadata": {},
   "outputs": [
    {
     "name": "stderr",
     "output_type": "stream",
     "text": [
      "C:\\Users\\User\\AppData\\Local\\Temp\\ipykernel_15336\\2565755782.py:1: SettingWithCopyWarning: \n",
      "A value is trying to be set on a copy of a slice from a DataFrame.\n",
      "Try using .loc[row_indexer,col_indexer] = value instead\n",
      "\n",
      "See the caveats in the documentation: https://pandas.pydata.org/pandas-docs/stable/user_guide/indexing.html#returning-a-view-versus-a-copy\n",
      "  df['Date'] = df['Date'].apply(str_to_datetime)\n"
     ]
    },
    {
     "data": {
      "text/plain": [
       "0     2022-12-01\n",
       "1     2022-12-02\n",
       "2     2022-12-05\n",
       "3     2022-12-06\n",
       "4     2022-12-07\n",
       "         ...    \n",
       "202   2023-09-22\n",
       "203   2023-09-25\n",
       "204   2023-09-26\n",
       "205   2023-09-27\n",
       "206   2023-09-28\n",
       "Name: Date, Length: 207, dtype: datetime64[ns]"
      ]
     },
     "execution_count": 154,
     "metadata": {},
     "output_type": "execute_result"
    }
   ],
   "source": [
    "df['Date'] = df['Date'].apply(str_to_datetime)\n",
    "df['Date']"
   ]
  },
  {
   "cell_type": "code",
   "execution_count": 155,
   "metadata": {},
   "outputs": [
    {
     "data": {
      "text/html": [
       "<div>\n",
       "<style scoped>\n",
       "    .dataframe tbody tr th:only-of-type {\n",
       "        vertical-align: middle;\n",
       "    }\n",
       "\n",
       "    .dataframe tbody tr th {\n",
       "        vertical-align: top;\n",
       "    }\n",
       "\n",
       "    .dataframe thead th {\n",
       "        text-align: right;\n",
       "    }\n",
       "</style>\n",
       "<table border=\"1\" class=\"dataframe\">\n",
       "  <thead>\n",
       "    <tr style=\"text-align: right;\">\n",
       "      <th></th>\n",
       "      <th>Close</th>\n",
       "    </tr>\n",
       "    <tr>\n",
       "      <th>Date</th>\n",
       "      <th></th>\n",
       "    </tr>\n",
       "  </thead>\n",
       "  <tbody>\n",
       "    <tr>\n",
       "      <th>2022-12-01</th>\n",
       "      <td>95.500000</td>\n",
       "    </tr>\n",
       "    <tr>\n",
       "      <th>2022-12-02</th>\n",
       "      <td>94.129997</td>\n",
       "    </tr>\n",
       "    <tr>\n",
       "      <th>2022-12-05</th>\n",
       "      <td>91.010002</td>\n",
       "    </tr>\n",
       "    <tr>\n",
       "      <th>2022-12-06</th>\n",
       "      <td>88.250000</td>\n",
       "    </tr>\n",
       "    <tr>\n",
       "      <th>2022-12-07</th>\n",
       "      <td>88.459999</td>\n",
       "    </tr>\n",
       "    <tr>\n",
       "      <th>...</th>\n",
       "      <td>...</td>\n",
       "    </tr>\n",
       "    <tr>\n",
       "      <th>2023-09-22</th>\n",
       "      <td>129.119995</td>\n",
       "    </tr>\n",
       "    <tr>\n",
       "      <th>2023-09-25</th>\n",
       "      <td>131.270004</td>\n",
       "    </tr>\n",
       "    <tr>\n",
       "      <th>2023-09-26</th>\n",
       "      <td>125.980003</td>\n",
       "    </tr>\n",
       "    <tr>\n",
       "      <th>2023-09-27</th>\n",
       "      <td>125.980003</td>\n",
       "    </tr>\n",
       "    <tr>\n",
       "      <th>2023-09-28</th>\n",
       "      <td>126.250000</td>\n",
       "    </tr>\n",
       "  </tbody>\n",
       "</table>\n",
       "<p>207 rows × 1 columns</p>\n",
       "</div>"
      ],
      "text/plain": [
       "                 Close\n",
       "Date                  \n",
       "2022-12-01   95.500000\n",
       "2022-12-02   94.129997\n",
       "2022-12-05   91.010002\n",
       "2022-12-06   88.250000\n",
       "2022-12-07   88.459999\n",
       "...                ...\n",
       "2023-09-22  129.119995\n",
       "2023-09-25  131.270004\n",
       "2023-09-26  125.980003\n",
       "2023-09-27  125.980003\n",
       "2023-09-28  126.250000\n",
       "\n",
       "[207 rows x 1 columns]"
      ]
     },
     "execution_count": 155,
     "metadata": {},
     "output_type": "execute_result"
    }
   ],
   "source": [
    "df.index = df.pop('Date')\n",
    "df"
   ]
  },
  {
   "cell_type": "code",
   "execution_count": 156,
   "metadata": {},
   "outputs": [],
   "source": [
    "dt = date['Date'].iloc[3]"
   ]
  },
  {
   "cell_type": "code",
   "execution_count": 157,
   "metadata": {},
   "outputs": [
    {
     "data": {
      "text/plain": [
       "'2022-12-06'"
      ]
     },
     "execution_count": 157,
     "metadata": {},
     "output_type": "execute_result"
    }
   ],
   "source": [
    "dt"
   ]
  },
  {
   "cell_type": "code",
   "execution_count": 158,
   "metadata": {},
   "outputs": [],
   "source": [
    "curr = str(datetime.datetime.now()-datetime.timedelta(days=1))"
   ]
  },
  {
   "cell_type": "code",
   "execution_count": 159,
   "metadata": {},
   "outputs": [
    {
     "data": {
      "text/plain": [
       "'2023-09-28 00:46:32.634695'"
      ]
     },
     "execution_count": 159,
     "metadata": {},
     "output_type": "execute_result"
    }
   ],
   "source": [
    "curr"
   ]
  },
  {
   "cell_type": "code",
   "execution_count": 160,
   "metadata": {},
   "outputs": [],
   "source": [
    "curr = curr[0:10]"
   ]
  },
  {
   "cell_type": "code",
   "execution_count": 161,
   "metadata": {},
   "outputs": [
    {
     "data": {
      "text/html": [
       "<div>\n",
       "<style scoped>\n",
       "    .dataframe tbody tr th:only-of-type {\n",
       "        vertical-align: middle;\n",
       "    }\n",
       "\n",
       "    .dataframe tbody tr th {\n",
       "        vertical-align: top;\n",
       "    }\n",
       "\n",
       "    .dataframe thead th {\n",
       "        text-align: right;\n",
       "    }\n",
       "</style>\n",
       "<table border=\"1\" class=\"dataframe\">\n",
       "  <thead>\n",
       "    <tr style=\"text-align: right;\">\n",
       "      <th></th>\n",
       "      <th>Target Date</th>\n",
       "      <th>Target-3</th>\n",
       "      <th>Target-2</th>\n",
       "      <th>Target-1</th>\n",
       "      <th>Target</th>\n",
       "    </tr>\n",
       "  </thead>\n",
       "  <tbody>\n",
       "    <tr>\n",
       "      <th>0</th>\n",
       "      <td>2022-12-06</td>\n",
       "      <td>95.500000</td>\n",
       "      <td>94.129997</td>\n",
       "      <td>91.010002</td>\n",
       "      <td>88.250000</td>\n",
       "    </tr>\n",
       "    <tr>\n",
       "      <th>1</th>\n",
       "      <td>2022-12-07</td>\n",
       "      <td>94.129997</td>\n",
       "      <td>91.010002</td>\n",
       "      <td>88.250000</td>\n",
       "      <td>88.459999</td>\n",
       "    </tr>\n",
       "    <tr>\n",
       "      <th>2</th>\n",
       "      <td>2022-12-08</td>\n",
       "      <td>91.010002</td>\n",
       "      <td>88.250000</td>\n",
       "      <td>88.459999</td>\n",
       "      <td>90.349998</td>\n",
       "    </tr>\n",
       "    <tr>\n",
       "      <th>3</th>\n",
       "      <td>2022-12-09</td>\n",
       "      <td>88.250000</td>\n",
       "      <td>88.459999</td>\n",
       "      <td>90.349998</td>\n",
       "      <td>89.089996</td>\n",
       "    </tr>\n",
       "    <tr>\n",
       "      <th>4</th>\n",
       "      <td>2022-12-12</td>\n",
       "      <td>88.459999</td>\n",
       "      <td>90.349998</td>\n",
       "      <td>89.089996</td>\n",
       "      <td>90.550003</td>\n",
       "    </tr>\n",
       "    <tr>\n",
       "      <th>...</th>\n",
       "      <td>...</td>\n",
       "      <td>...</td>\n",
       "      <td>...</td>\n",
       "      <td>...</td>\n",
       "      <td>...</td>\n",
       "    </tr>\n",
       "    <tr>\n",
       "      <th>199</th>\n",
       "      <td>2023-09-22</td>\n",
       "      <td>137.630005</td>\n",
       "      <td>135.289993</td>\n",
       "      <td>129.330002</td>\n",
       "      <td>129.119995</td>\n",
       "    </tr>\n",
       "    <tr>\n",
       "      <th>200</th>\n",
       "      <td>2023-09-25</td>\n",
       "      <td>135.289993</td>\n",
       "      <td>129.330002</td>\n",
       "      <td>129.119995</td>\n",
       "      <td>131.270004</td>\n",
       "    </tr>\n",
       "    <tr>\n",
       "      <th>201</th>\n",
       "      <td>2023-09-26</td>\n",
       "      <td>129.330002</td>\n",
       "      <td>129.119995</td>\n",
       "      <td>131.270004</td>\n",
       "      <td>125.980003</td>\n",
       "    </tr>\n",
       "    <tr>\n",
       "      <th>202</th>\n",
       "      <td>2023-09-27</td>\n",
       "      <td>129.119995</td>\n",
       "      <td>131.270004</td>\n",
       "      <td>125.980003</td>\n",
       "      <td>125.980003</td>\n",
       "    </tr>\n",
       "    <tr>\n",
       "      <th>203</th>\n",
       "      <td>2023-09-28</td>\n",
       "      <td>131.270004</td>\n",
       "      <td>125.980003</td>\n",
       "      <td>125.980003</td>\n",
       "      <td>126.250000</td>\n",
       "    </tr>\n",
       "  </tbody>\n",
       "</table>\n",
       "<p>204 rows × 5 columns</p>\n",
       "</div>"
      ],
      "text/plain": [
       "    Target Date    Target-3    Target-2    Target-1      Target\n",
       "0    2022-12-06   95.500000   94.129997   91.010002   88.250000\n",
       "1    2022-12-07   94.129997   91.010002   88.250000   88.459999\n",
       "2    2022-12-08   91.010002   88.250000   88.459999   90.349998\n",
       "3    2022-12-09   88.250000   88.459999   90.349998   89.089996\n",
       "4    2022-12-12   88.459999   90.349998   89.089996   90.550003\n",
       "..          ...         ...         ...         ...         ...\n",
       "199  2023-09-22  137.630005  135.289993  129.330002  129.119995\n",
       "200  2023-09-25  135.289993  129.330002  129.119995  131.270004\n",
       "201  2023-09-26  129.330002  129.119995  131.270004  125.980003\n",
       "202  2023-09-27  129.119995  131.270004  125.980003  125.980003\n",
       "203  2023-09-28  131.270004  125.980003  125.980003  126.250000\n",
       "\n",
       "[204 rows x 5 columns]"
      ]
     },
     "execution_count": 161,
     "metadata": {},
     "output_type": "execute_result"
    }
   ],
   "source": [
    "import numpy as np\n",
    "\n",
    "def df_to_windowed_df(dataframe, first_date_str, last_date_str, n=3):\n",
    "  first_date = str_to_datetime(first_date_str)\n",
    "  last_date  = str_to_datetime(last_date_str)\n",
    "\n",
    "  target_date = first_date\n",
    "  \n",
    "  dates = []\n",
    "  X, Y = [], []\n",
    "\n",
    "  last_time = False\n",
    "  while True:\n",
    "    df_subset = dataframe.loc[:target_date].tail(n+1)\n",
    "    \n",
    "    if len(df_subset) != n+1:\n",
    "      print(f'Error: Window of size {n} is too large for date {target_date}')\n",
    "      return\n",
    "\n",
    "    values = df_subset['Close'].to_numpy()\n",
    "    x, y = values[:-1], values[-1]\n",
    "\n",
    "    dates.append(target_date)\n",
    "    X.append(x)\n",
    "    Y.append(y)\n",
    "\n",
    "    next_week = dataframe.loc[target_date:target_date+datetime.timedelta(days=7)]\n",
    "    next_datetime_str = str(next_week.head(2).tail(1).index.values[0])\n",
    "    next_date_str = next_datetime_str.split('T')[0]\n",
    "    year_month_day = next_date_str.split('-')\n",
    "    year, month, day = year_month_day\n",
    "    next_date = datetime.datetime(day=int(day), month=int(month), year=int(year))\n",
    "    \n",
    "    if last_time:\n",
    "      break\n",
    "    \n",
    "    target_date = next_date\n",
    "\n",
    "    if target_date == last_date:\n",
    "      last_time = True\n",
    "    \n",
    "  ret_df = pd.DataFrame({})\n",
    "  ret_df['Target Date'] = dates\n",
    "  \n",
    "  X = np.array(X)\n",
    "  for i in range(0, n):\n",
    "    X[:, i]\n",
    "    ret_df[f'Target-{n-i}'] = X[:, i]\n",
    "  \n",
    "  ret_df['Target'] = Y\n",
    "\n",
    "  return ret_df\n",
    "\n",
    "windowed_df = df_to_windowed_df(df, \n",
    "                                dt, \n",
    "                                curr, \n",
    "                                n=3)\n",
    "windowed_df"
   ]
  },
  {
   "cell_type": "code",
   "execution_count": 162,
   "metadata": {},
   "outputs": [
    {
     "data": {
      "text/plain": [
       "((204,), (204, 3), (204,))"
      ]
     },
     "execution_count": 162,
     "metadata": {},
     "output_type": "execute_result"
    }
   ],
   "source": [
    "def windowed_df_to_date_X_y(windowed_dataframe):\n",
    "  df_as_np = windowed_dataframe.to_numpy()\n",
    "\n",
    "  dates = df_as_np[:, 0]\n",
    "\n",
    "  middle_matrix = df_as_np[:, 1:-1]\n",
    "  X = middle_matrix.reshape((len(dates), middle_matrix.shape[1]))\n",
    "\n",
    "  Y = df_as_np[:, -1]\n",
    "\n",
    "  return dates, X.astype(np.float32), Y.astype(np.float32)\n",
    "\n",
    "dates, X, y = windowed_df_to_date_X_y(windowed_df)\n",
    "\n",
    "dates.shape, X.shape, y.shape"
   ]
  },
  {
   "cell_type": "code",
   "execution_count": 163,
   "metadata": {},
   "outputs": [
    {
     "data": {
      "text/plain": [
       "<matplotlib.legend.Legend at 0x293bff75ed0>"
      ]
     },
     "execution_count": 163,
     "metadata": {},
     "output_type": "execute_result"
    },
    {
     "data": {
      "image/png": "[encoded data removed]",
      "text/plain": [
       "<Figure size 640x480 with 1 Axes>"
      ]
     },
     "metadata": {},
     "output_type": "display_data"
    }
   ],
   "source": [
    "q_80 = int(len(dates) * .8)\n",
    "q_90 = int(len(dates) * .9)\n",
    "\n",
    "dates_train, X_train, y_train = dates[:q_80], X[:q_80], y[:q_80]\n",
    "\n",
    "dates_val, X_val, y_val = dates[q_80:q_90], X[q_80:q_90], y[q_80:q_90]\n",
    "dates_test, X_test, y_test = dates[q_90:], X[q_90:], y[q_90:]\n",
    "\n",
    "plt.plot(dates_train, y_train)\n",
    "plt.plot(dates_val, y_val)\n",
    "plt.plot(dates_test, y_test)\n",
    "\n",
    "plt.legend(['Train', 'Validation', 'Test'])"
   ]
  },
  {
   "cell_type": "code",
   "execution_count": 164,
   "metadata": {},
   "outputs": [],
   "source": [
    "from tensorflow.keras.models import Sequential\n",
    "from tensorflow.keras.optimizers import Adam\n",
    "from tensorflow.keras import layers\n"
   ]
  },
  {
   "cell_type": "code",
   "execution_count": 165,
   "metadata": {},
   "outputs": [
    {
     "name": "stdout",
     "output_type": "stream",
     "text": [
      "Epoch 1/100\n",
      "6/6 [==============================] - 3s 93ms/step - loss: 11541.7217 - mean_absolute_error: 106.3599 - val_loss: 18262.2344 - val_mean_absolute_error: 135.0886\n",
      "Epoch 2/100\n",
      "6/6 [==============================] - 0s 7ms/step - loss: 11469.7881 - mean_absolute_error: 106.0201 - val_loss: 18165.7715 - val_mean_absolute_error: 134.7311\n",
      "Epoch 3/100\n",
      "6/6 [==============================] - 0s 7ms/step - loss: 11389.4307 - mean_absolute_error: 105.6416 - val_loss: 18061.0566 - val_mean_absolute_error: 134.3419\n",
      "Epoch 4/100\n",
      "6/6 [==============================] - 0s 8ms/step - loss: 11298.9502 - mean_absolute_error: 105.2074 - val_loss: 17927.0723 - val_mean_absolute_error: 133.8423\n",
      "Epoch 5/100\n",
      "6/6 [==============================] - 0s 9ms/step - loss: 11172.5205 - mean_absolute_error: 104.6061 - val_loss: 17728.8418 - val_mean_absolute_error: 133.0996\n",
      "Epoch 6/100\n",
      "6/6 [==============================] - 0s 7ms/step - loss: 10994.1338 - mean_absolute_error: 103.7425 - val_loss: 17444.8848 - val_mean_absolute_error: 132.0286\n",
      "Epoch 7/100\n",
      "6/6 [==============================] - 0s 7ms/step - loss: 10753.5840 - mean_absolute_error: 102.5778 - val_loss: 17089.6035 - val_mean_absolute_error: 130.6762\n",
      "Epoch 8/100\n",
      "6/6 [==============================] - 0s 7ms/step - loss: 10440.1982 - mean_absolute_error: 101.0389 - val_loss: 16607.6016 - val_mean_absolute_error: 128.8187\n",
      "Epoch 9/100\n",
      "6/6 [==============================] - 0s 7ms/step - loss: 10017.0020 - mean_absolute_error: 98.9142 - val_loss: 15978.5840 - val_mean_absolute_error: 126.3535\n",
      "Epoch 10/100\n",
      "6/6 [==============================] - 0s 7ms/step - loss: 9447.3984 - mean_absolute_error: 95.9746 - val_loss: 15118.0938 - val_mean_absolute_error: 122.9009\n",
      "Epoch 11/100\n",
      "6/6 [==============================] - 0s 8ms/step - loss: 8686.9658 - mean_absolute_error: 91.9003 - val_loss: 13987.4736 - val_mean_absolute_error: 118.2114\n",
      "Epoch 12/100\n",
      "6/6 [==============================] - 0s 8ms/step - loss: 7724.9556 - mean_absolute_error: 86.4429 - val_loss: 12567.8027 - val_mean_absolute_error: 112.0450\n",
      "Epoch 13/100\n",
      "6/6 [==============================] - 0s 9ms/step - loss: 6543.2422 - mean_absolute_error: 79.3026 - val_loss: 10793.0918 - val_mean_absolute_error: 103.8234\n",
      "Epoch 14/100\n",
      "6/6 [==============================] - 0s 8ms/step - loss: 5211.5894 - mean_absolute_error: 70.4559 - val_loss: 8845.4277 - val_mean_absolute_error: 93.9765\n",
      "Epoch 15/100\n",
      "6/6 [==============================] - 0s 7ms/step - loss: 3846.5398 - mean_absolute_error: 59.8691 - val_loss: 6802.7920 - val_mean_absolute_error: 82.3953\n",
      "Epoch 16/100\n",
      "6/6 [==============================] - 0s 8ms/step - loss: 2564.2617 - mean_absolute_error: 47.9786 - val_loss: 4903.8042 - val_mean_absolute_error: 69.9286\n",
      "Epoch 17/100\n",
      "6/6 [==============================] - 0s 8ms/step - loss: 1500.8993 - mean_absolute_error: 35.2201 - val_loss: 3256.1133 - val_mean_absolute_error: 56.9390\n",
      "Epoch 18/100\n",
      "6/6 [==============================] - 0s 9ms/step - loss: 730.3762 - mean_absolute_error: 21.8422 - val_loss: 1827.6302 - val_mean_absolute_error: 42.5865\n",
      "Epoch 19/100\n",
      "6/6 [==============================] - 0s 9ms/step - loss: 310.8316 - mean_absolute_error: 13.5273 - val_loss: 890.1613 - val_mean_absolute_error: 29.6013\n",
      "Epoch 20/100\n",
      "6/6 [==============================] - 0s 8ms/step - loss: 253.4993 - mean_absolute_error: 14.2419 - val_loss: 501.6845 - val_mean_absolute_error: 22.0975\n",
      "Epoch 21/100\n",
      "6/6 [==============================] - 0s 8ms/step - loss: 284.4936 - mean_absolute_error: 15.3237 - val_loss: 496.6976 - val_mean_absolute_error: 21.9861\n",
      "Epoch 22/100\n",
      "6/6 [==============================] - 0s 9ms/step - loss: 271.6835 - mean_absolute_error: 14.9913 - val_loss: 592.1202 - val_mean_absolute_error: 24.0590\n",
      "Epoch 23/100\n",
      "6/6 [==============================] - 0s 8ms/step - loss: 245.7285 - mean_absolute_error: 14.1515 - val_loss: 729.8392 - val_mean_absolute_error: 26.7693\n",
      "Epoch 24/100\n",
      "6/6 [==============================] - 0s 8ms/step - loss: 228.2616 - mean_absolute_error: 13.2888 - val_loss: 866.4796 - val_mean_absolute_error: 29.2102\n",
      "Epoch 25/100\n",
      "6/6 [==============================] - 0s 12ms/step - loss: 227.6812 - mean_absolute_error: 12.7640 - val_loss: 924.3924 - val_mean_absolute_error: 30.1857\n",
      "Epoch 26/100\n",
      "6/6 [==============================] - 0s 6ms/step - loss: 217.8705 - mean_absolute_error: 12.1430 - val_loss: 997.6849 - val_mean_absolute_error: 31.3852\n",
      "Epoch 27/100\n",
      "6/6 [==============================] - 0s 6ms/step - loss: 215.1848 - mean_absolute_error: 11.6062 - val_loss: 857.3846 - val_mean_absolute_error: 29.0574\n",
      "Epoch 28/100\n",
      "6/6 [==============================] - 0s 7ms/step - loss: 200.3165 - mean_absolute_error: 11.7613 - val_loss: 834.4811 - val_mean_absolute_error: 28.6631\n",
      "Epoch 29/100\n",
      "6/6 [==============================] - 0s 7ms/step - loss: 193.2442 - mean_absolute_error: 11.5684 - val_loss: 794.7441 - val_mean_absolute_error: 27.9662\n",
      "Epoch 30/100\n",
      "6/6 [==============================] - 0s 7ms/step - loss: 190.2998 - mean_absolute_error: 11.3516 - val_loss: 755.7773 - val_mean_absolute_error: 27.2604\n",
      "Epoch 31/100\n",
      "6/6 [==============================] - 0s 8ms/step - loss: 176.1907 - mean_absolute_error: 11.2901 - val_loss: 711.7690 - val_mean_absolute_error: 26.4466\n",
      "Epoch 32/100\n",
      "6/6 [==============================] - 0s 9ms/step - loss: 151.1613 - mean_absolute_error: 9.8498 - val_loss: 650.8721 - val_mean_absolute_error: 25.2740\n",
      "Epoch 33/100\n",
      "6/6 [==============================] - 0s 10ms/step - loss: 135.1630 - mean_absolute_error: 9.3273 - val_loss: 583.6886 - val_mean_absolute_error: 23.9084\n",
      "Epoch 34/100\n",
      "6/6 [==============================] - 0s 8ms/step - loss: 125.7078 - mean_absolute_error: 9.3874 - val_loss: 527.5909 - val_mean_absolute_error: 22.7138\n",
      "Epoch 35/100\n",
      "6/6 [==============================] - 0s 10ms/step - loss: 115.8699 - mean_absolute_error: 8.9264 - val_loss: 473.7741 - val_mean_absolute_error: 21.4968\n",
      "Epoch 36/100\n",
      "6/6 [==============================] - 0s 8ms/step - loss: 105.6706 - mean_absolute_error: 8.4921 - val_loss: 443.9692 - val_mean_absolute_error: 20.7977\n",
      "Epoch 37/100\n",
      "6/6 [==============================] - 0s 8ms/step - loss: 80.6050 - mean_absolute_error: 7.0600 - val_loss: 377.8073 - val_mean_absolute_error: 19.1449\n",
      "Epoch 38/100\n",
      "6/6 [==============================] - 0s 9ms/step - loss: 63.1778 - mean_absolute_error: 6.5240 - val_loss: 310.6245 - val_mean_absolute_error: 17.3022\n",
      "Epoch 39/100\n",
      "6/6 [==============================] - 0s 9ms/step - loss: 47.1366 - mean_absolute_error: 5.2453 - val_loss: 222.7104 - val_mean_absolute_error: 14.5309\n",
      "Epoch 40/100\n",
      "6/6 [==============================] - 0s 8ms/step - loss: 38.0591 - mean_absolute_error: 5.0939 - val_loss: 215.6113 - val_mean_absolute_error: 14.3118\n",
      "Epoch 41/100\n",
      "6/6 [==============================] - 0s 10ms/step - loss: 26.5472 - mean_absolute_error: 4.1501 - val_loss: 158.9600 - val_mean_absolute_error: 12.1784\n",
      "Epoch 42/100\n",
      "6/6 [==============================] - 0s 8ms/step - loss: 19.3777 - mean_absolute_error: 3.3476 - val_loss: 113.4466 - val_mean_absolute_error: 10.1308\n",
      "Epoch 43/100\n",
      "6/6 [==============================] - 0s 9ms/step - loss: 14.0785 - mean_absolute_error: 2.9497 - val_loss: 99.2817 - val_mean_absolute_error: 9.4244\n",
      "Epoch 44/100\n",
      "6/6 [==============================] - 0s 10ms/step - loss: 10.9288 - mean_absolute_error: 2.6349 - val_loss: 81.3261 - val_mean_absolute_error: 8.4226\n",
      "Epoch 45/100\n",
      "6/6 [==============================] - 0s 8ms/step - loss: 8.9725 - mean_absolute_error: 2.3637 - val_loss: 64.2672 - val_mean_absolute_error: 7.3364\n",
      "Epoch 46/100\n",
      "6/6 [==============================] - 0s 7ms/step - loss: 7.7605 - mean_absolute_error: 2.1796 - val_loss: 64.6532 - val_mean_absolute_error: 7.4024\n",
      "Epoch 47/100\n",
      "6/6 [==============================] - 0s 8ms/step - loss: 8.7978 - mean_absolute_error: 2.3818 - val_loss: 43.8664 - val_mean_absolute_error: 5.8630\n",
      "Epoch 48/100\n",
      "6/6 [==============================] - 0s 8ms/step - loss: 7.4120 - mean_absolute_error: 2.1372 - val_loss: 46.4843 - val_mean_absolute_error: 6.0773\n",
      "Epoch 49/100\n",
      "6/6 [==============================] - 0s 12ms/step - loss: 6.7332 - mean_absolute_error: 1.9651 - val_loss: 44.3728 - val_mean_absolute_error: 5.9213\n",
      "Epoch 50/100\n",
      "6/6 [==============================] - 0s 10ms/step - loss: 7.0743 - mean_absolute_error: 2.0578 - val_loss: 32.7575 - val_mean_absolute_error: 4.9236\n",
      "Epoch 51/100\n",
      "6/6 [==============================] - 0s 7ms/step - loss: 7.0588 - mean_absolute_error: 2.0083 - val_loss: 43.0000 - val_mean_absolute_error: 5.8254\n",
      "Epoch 52/100\n",
      "6/6 [==============================] - 0s 8ms/step - loss: 6.6897 - mean_absolute_error: 2.0287 - val_loss: 30.2689 - val_mean_absolute_error: 4.6876\n",
      "Epoch 53/100\n",
      "6/6 [==============================] - 0s 7ms/step - loss: 5.8848 - mean_absolute_error: 1.8409 - val_loss: 29.9363 - val_mean_absolute_error: 4.6624\n",
      "Epoch 54/100\n",
      "6/6 [==============================] - 0s 7ms/step - loss: 7.6972 - mean_absolute_error: 2.1409 - val_loss: 41.8223 - val_mean_absolute_error: 5.7375\n",
      "Epoch 55/100\n",
      "6/6 [==============================] - 0s 7ms/step - loss: 8.3804 - mean_absolute_error: 2.3633 - val_loss: 27.1201 - val_mean_absolute_error: 4.3741\n",
      "Epoch 56/100\n",
      "6/6 [==============================] - 0s 8ms/step - loss: 7.6242 - mean_absolute_error: 2.1135 - val_loss: 31.3986 - val_mean_absolute_error: 4.8265\n",
      "Epoch 57/100\n",
      "6/6 [==============================] - 0s 7ms/step - loss: 7.7821 - mean_absolute_error: 2.1875 - val_loss: 31.2263 - val_mean_absolute_error: 4.8113\n",
      "Epoch 58/100\n",
      "6/6 [==============================] - 0s 8ms/step - loss: 5.6040 - mean_absolute_error: 1.8304 - val_loss: 28.6391 - val_mean_absolute_error: 4.5499\n",
      "Epoch 59/100\n",
      "6/6 [==============================] - 0s 8ms/step - loss: 5.4763 - mean_absolute_error: 1.7851 - val_loss: 27.1242 - val_mean_absolute_error: 4.3887\n",
      "Epoch 60/100\n",
      "6/6 [==============================] - 0s 8ms/step - loss: 5.6230 - mean_absolute_error: 1.8130 - val_loss: 30.6385 - val_mean_absolute_error: 4.7593\n",
      "Epoch 61/100\n",
      "6/6 [==============================] - 0s 8ms/step - loss: 7.1062 - mean_absolute_error: 2.1507 - val_loss: 22.4120 - val_mean_absolute_error: 3.9132\n",
      "Epoch 62/100\n",
      "6/6 [==============================] - 0s 9ms/step - loss: 7.7560 - mean_absolute_error: 2.2054 - val_loss: 32.5511 - val_mean_absolute_error: 4.9481\n",
      "Epoch 63/100\n",
      "6/6 [==============================] - 0s 8ms/step - loss: 6.0119 - mean_absolute_error: 1.8983 - val_loss: 25.1549 - val_mean_absolute_error: 4.1785\n",
      "Epoch 64/100\n",
      "6/6 [==============================] - 0s 9ms/step - loss: 5.4592 - mean_absolute_error: 1.7804 - val_loss: 24.7251 - val_mean_absolute_error: 4.1320\n",
      "Epoch 65/100\n",
      "6/6 [==============================] - 0s 8ms/step - loss: 5.5004 - mean_absolute_error: 1.7907 - val_loss: 25.5722 - val_mean_absolute_error: 4.2306\n",
      "Epoch 66/100\n",
      "6/6 [==============================] - 0s 8ms/step - loss: 5.3094 - mean_absolute_error: 1.7729 - val_loss: 24.5286 - val_mean_absolute_error: 4.1172\n",
      "Epoch 67/100\n",
      "6/6 [==============================] - 0s 8ms/step - loss: 5.4399 - mean_absolute_error: 1.7823 - val_loss: 26.3628 - val_mean_absolute_error: 4.3243\n",
      "Epoch 68/100\n",
      "6/6 [==============================] - 0s 7ms/step - loss: 5.4077 - mean_absolute_error: 1.7897 - val_loss: 20.6996 - val_mean_absolute_error: 3.7341\n",
      "Epoch 69/100\n",
      "6/6 [==============================] - 0s 7ms/step - loss: 6.7958 - mean_absolute_error: 2.0277 - val_loss: 27.7455 - val_mean_absolute_error: 4.4773\n",
      "Epoch 70/100\n",
      "6/6 [==============================] - 0s 8ms/step - loss: 5.7758 - mean_absolute_error: 1.8630 - val_loss: 28.5598 - val_mean_absolute_error: 4.5642\n",
      "Epoch 71/100\n",
      "6/6 [==============================] - 0s 9ms/step - loss: 6.8317 - mean_absolute_error: 2.0833 - val_loss: 21.5642 - val_mean_absolute_error: 3.8014\n",
      "Epoch 72/100\n",
      "6/6 [==============================] - 0s 10ms/step - loss: 6.9134 - mean_absolute_error: 2.0553 - val_loss: 26.2343 - val_mean_absolute_error: 4.3141\n",
      "Epoch 73/100\n",
      "6/6 [==============================] - 0s 11ms/step - loss: 8.1795 - mean_absolute_error: 2.2558 - val_loss: 18.0930 - val_mean_absolute_error: 3.4345\n",
      "Epoch 74/100\n",
      "6/6 [==============================] - 0s 9ms/step - loss: 5.9897 - mean_absolute_error: 1.9224 - val_loss: 26.9579 - val_mean_absolute_error: 4.3940\n",
      "Epoch 75/100\n",
      "6/6 [==============================] - 0s 9ms/step - loss: 5.5601 - mean_absolute_error: 1.8463 - val_loss: 19.7796 - val_mean_absolute_error: 3.6163\n",
      "Epoch 76/100\n",
      "6/6 [==============================] - 0s 9ms/step - loss: 5.6727 - mean_absolute_error: 1.8426 - val_loss: 20.4357 - val_mean_absolute_error: 3.6832\n",
      "Epoch 77/100\n",
      "6/6 [==============================] - 0s 8ms/step - loss: 5.6911 - mean_absolute_error: 1.8301 - val_loss: 21.1628 - val_mean_absolute_error: 3.7560\n",
      "Epoch 78/100\n",
      "6/6 [==============================] - 0s 8ms/step - loss: 5.3094 - mean_absolute_error: 1.7693 - val_loss: 25.5881 - val_mean_absolute_error: 4.2453\n",
      "Epoch 79/100\n",
      "6/6 [==============================] - 0s 7ms/step - loss: 5.4988 - mean_absolute_error: 1.8100 - val_loss: 21.0405 - val_mean_absolute_error: 3.7426\n",
      "Epoch 80/100\n",
      "6/6 [==============================] - 0s 7ms/step - loss: 5.2671 - mean_absolute_error: 1.7578 - val_loss: 20.5280 - val_mean_absolute_error: 3.6858\n",
      "Epoch 81/100\n",
      "6/6 [==============================] - 0s 7ms/step - loss: 5.3696 - mean_absolute_error: 1.7792 - val_loss: 18.1333 - val_mean_absolute_error: 3.4254\n",
      "Epoch 82/100\n",
      "6/6 [==============================] - 0s 8ms/step - loss: 5.9978 - mean_absolute_error: 1.8836 - val_loss: 27.4116 - val_mean_absolute_error: 4.4418\n",
      "Epoch 83/100\n",
      "6/6 [==============================] - 0s 7ms/step - loss: 5.6638 - mean_absolute_error: 1.8371 - val_loss: 17.1949 - val_mean_absolute_error: 3.3198\n",
      "Epoch 84/100\n",
      "6/6 [==============================] - 0s 9ms/step - loss: 5.7206 - mean_absolute_error: 1.8586 - val_loss: 20.9763 - val_mean_absolute_error: 3.7383\n",
      "Epoch 85/100\n",
      "6/6 [==============================] - 0s 8ms/step - loss: 5.5137 - mean_absolute_error: 1.7970 - val_loss: 21.6292 - val_mean_absolute_error: 3.8155\n",
      "Epoch 86/100\n",
      "6/6 [==============================] - 0s 10ms/step - loss: 5.7227 - mean_absolute_error: 1.8353 - val_loss: 21.1836 - val_mean_absolute_error: 3.7600\n",
      "Epoch 87/100\n",
      "6/6 [==============================] - 0s 10ms/step - loss: 5.5114 - mean_absolute_error: 1.8006 - val_loss: 18.4074 - val_mean_absolute_error: 3.4607\n",
      "Epoch 88/100\n",
      "6/6 [==============================] - 0s 7ms/step - loss: 5.6045 - mean_absolute_error: 1.8271 - val_loss: 26.4817 - val_mean_absolute_error: 4.3418\n",
      "Epoch 89/100\n",
      "6/6 [==============================] - 0s 7ms/step - loss: 6.3243 - mean_absolute_error: 1.9824 - val_loss: 16.1749 - val_mean_absolute_error: 3.1868\n",
      "Epoch 90/100\n",
      "6/6 [==============================] - 0s 8ms/step - loss: 6.6572 - mean_absolute_error: 1.9800 - val_loss: 25.5972 - val_mean_absolute_error: 4.2438\n",
      "Epoch 91/100\n",
      "6/6 [==============================] - 0s 8ms/step - loss: 6.3037 - mean_absolute_error: 1.9816 - val_loss: 15.0052 - val_mean_absolute_error: 3.0294\n",
      "Epoch 92/100\n",
      "6/6 [==============================] - 0s 8ms/step - loss: 6.8192 - mean_absolute_error: 2.0697 - val_loss: 29.7299 - val_mean_absolute_error: 4.6751\n",
      "Epoch 93/100\n",
      "6/6 [==============================] - 0s 8ms/step - loss: 5.5678 - mean_absolute_error: 1.8262 - val_loss: 18.3047 - val_mean_absolute_error: 3.4475\n",
      "Epoch 94/100\n",
      "6/6 [==============================] - 0s 9ms/step - loss: 6.1191 - mean_absolute_error: 1.8902 - val_loss: 30.1194 - val_mean_absolute_error: 4.7133\n",
      "Epoch 95/100\n",
      "6/6 [==============================] - 0s 8ms/step - loss: 6.4616 - mean_absolute_error: 2.0574 - val_loss: 16.0587 - val_mean_absolute_error: 3.1761\n",
      "Epoch 96/100\n",
      "6/6 [==============================] - 0s 8ms/step - loss: 6.3797 - mean_absolute_error: 1.9426 - val_loss: 22.5747 - val_mean_absolute_error: 3.9165\n",
      "Epoch 97/100\n",
      "6/6 [==============================] - 0s 7ms/step - loss: 5.8848 - mean_absolute_error: 1.9045 - val_loss: 19.3189 - val_mean_absolute_error: 3.5569\n",
      "Epoch 98/100\n",
      "6/6 [==============================] - 0s 7ms/step - loss: 5.3954 - mean_absolute_error: 1.7876 - val_loss: 21.6415 - val_mean_absolute_error: 3.8139\n",
      "Epoch 99/100\n",
      "6/6 [==============================] - 0s 9ms/step - loss: 5.3288 - mean_absolute_error: 1.7622 - val_loss: 16.6932 - val_mean_absolute_error: 3.2554\n",
      "Epoch 100/100\n",
      "6/6 [==============================] - 0s 8ms/step - loss: 5.7096 - mean_absolute_error: 1.8769 - val_loss: 26.6407 - val_mean_absolute_error: 4.3597\n"
     ]
    },
    {
     "data": {
      "text/plain": [
       "<keras.src.callbacks.History at 0x293c1502d90>"
      ]
     },
     "execution_count": 165,
     "metadata": {},
     "output_type": "execute_result"
    }
   ],
   "source": [
    "model = Sequential([layers.Input((3, 1)),\n",
    "                    layers.LSTM(64),\n",
    "                    layers.Dense(32, activation='relu'),\n",
    "                    layers.Dense(32, activation='relu'),\n",
    "                    layers.Dense(1)])\n",
    "\n",
    "model.compile(loss='mse', \n",
    "              optimizer=Adam(learning_rate=0.001),\n",
    "              metrics=['mean_absolute_error'])\n",
    "\n",
    "model.fit(X_train, y_train, validation_data=(X_val, y_val), epochs=100)"
   ]
  },
  {
   "cell_type": "code",
   "execution_count": 166,
   "metadata": {},
   "outputs": [
    {
     "name": "stdout",
     "output_type": "stream",
     "text": [
      "6/6 [==============================] - 0s 1ms/step\n"
     ]
    },
    {
     "data": {
      "text/plain": [
       "<matplotlib.legend.Legend at 0x293c1478910>"
      ]
     },
     "execution_count": 166,
     "metadata": {},
     "output_type": "execute_result"
    },
    {
     "data": {
      "image/png": "[encoded data removed]",
      "text/plain": [
       "<Figure size 640x480 with 1 Axes>"
      ]
     },
     "metadata": {},
     "output_type": "display_data"
    }
   ],
   "source": [
    "train_predictions = model.predict(X_train).flatten()\n",
    "\n",
    "plt.plot(dates_train, train_predictions)\n",
    "plt.plot(dates_train, y_train)\n",
    "plt.legend(['Training Predictions', 'Training Observations'])"
   ]
  },
  {
   "cell_type": "code",
   "execution_count": 167,
   "metadata": {},
   "outputs": [
    {
     "name": "stdout",
     "output_type": "stream",
     "text": [
      "1/1 [==============================] - 0s 21ms/step\n"
     ]
    },
    {
     "data": {
      "text/plain": [
       "<matplotlib.legend.Legend at 0x293c4865510>"
      ]
     },
     "execution_count": 167,
     "metadata": {},
     "output_type": "execute_result"
    },
    {
     "data": {
      "image/png": "[encoded data removed]",
      "text/plain": [
       "<Figure size 640x480 with 1 Axes>"
      ]
     },
     "metadata": {},
     "output_type": "display_data"
    }
   ],
   "source": [
    "val_predictions = model.predict(X_val).flatten()\n",
    "\n",
    "plt.plot(dates_val, val_predictions)\n",
    "plt.plot(dates_val, y_val)\n",
    "plt.legend(['Validation Predictions', 'Validation Observations'])"
   ]
  },
  {
   "cell_type": "code",
   "execution_count": 168,
   "metadata": {},
   "outputs": [
    {
     "name": "stdout",
     "output_type": "stream",
     "text": [
      "1/1 [==============================] - 0s 27ms/step\n"
     ]
    },
    {
     "data": {
      "text/plain": [
       "<matplotlib.legend.Legend at 0x293c4840810>"
      ]
     },
     "execution_count": 168,
     "metadata": {},
     "output_type": "execute_result"
    },
    {
     "data": {
      "image/png": "[encoded data removed]",
      "text/plain": [
       "<Figure size 640x480 with 1 Axes>"
      ]
     },
     "metadata": {},
     "output_type": "display_data"
    }
   ],
   "source": [
    "test_predictions = model.predict(X_test).flatten()\n",
    "\n",
    "plt.plot(dates_test, test_predictions)\n",
    "plt.plot(dates_test, y_test)\n",
    "plt.legend(['Testing Predictions', 'Testing Observations'])"
   ]
  },
  {
   "cell_type": "code",
   "execution_count": 169,
   "metadata": {},
   "outputs": [
    {
     "data": {
      "text/plain": [
       "array([Timestamp('2023-08-30 00:00:00'), Timestamp('2023-08-31 00:00:00'),\n",
       "       Timestamp('2023-09-01 00:00:00'), Timestamp('2023-09-05 00:00:00'),\n",
       "       Timestamp('2023-09-06 00:00:00'), Timestamp('2023-09-07 00:00:00'),\n",
       "       Timestamp('2023-09-08 00:00:00'), Timestamp('2023-09-11 00:00:00'),\n",
       "       Timestamp('2023-09-12 00:00:00'), Timestamp('2023-09-13 00:00:00'),\n",
       "       Timestamp('2023-09-14 00:00:00'), Timestamp('2023-09-15 00:00:00'),\n",
       "       Timestamp('2023-09-18 00:00:00'), Timestamp('2023-09-19 00:00:00'),\n",
       "       Timestamp('2023-09-20 00:00:00'), Timestamp('2023-09-21 00:00:00'),\n",
       "       Timestamp('2023-09-22 00:00:00'), Timestamp('2023-09-25 00:00:00'),\n",
       "       Timestamp('2023-09-26 00:00:00'), Timestamp('2023-09-27 00:00:00'),\n",
       "       Timestamp('2023-09-28 00:00:00')], dtype=object)"
      ]
     },
     "execution_count": 169,
     "metadata": {},
     "output_type": "execute_result"
    }
   ],
   "source": [
    "dates_test"
   ]
  },
  {
   "cell_type": "code",
   "execution_count": 170,
   "metadata": {},
   "outputs": [
    {
     "data": {
      "text/plain": [
       "array([131.26022, 131.44913, 132.59198, 132.77939, 132.48602, 131.70363,\n",
       "       132.54892, 132.80849, 134.17447, 133.88493, 134.63588, 134.70312,\n",
       "       133.7101 , 133.45215, 132.6958 , 131.69185, 128.49554, 127.82061,\n",
       "       129.11041, 125.93978, 125.29766], dtype=float32)"
      ]
     },
     "execution_count": 170,
     "metadata": {},
     "output_type": "execute_result"
    }
   ],
   "source": [
    "test_predictions"
   ]
  },
  {
   "cell_type": "code",
   "execution_count": 171,
   "metadata": {},
   "outputs": [
    {
     "data": {
      "text/html": [
       "<div>\n",
       "<style scoped>\n",
       "    .dataframe tbody tr th:only-of-type {\n",
       "        vertical-align: middle;\n",
       "    }\n",
       "\n",
       "    .dataframe tbody tr th {\n",
       "        vertical-align: top;\n",
       "    }\n",
       "\n",
       "    .dataframe thead th {\n",
       "        text-align: right;\n",
       "    }\n",
       "</style>\n",
       "<table border=\"1\" class=\"dataframe\">\n",
       "  <thead>\n",
       "    <tr style=\"text-align: right;\">\n",
       "      <th></th>\n",
       "      <th>Close</th>\n",
       "    </tr>\n",
       "    <tr>\n",
       "      <th>Date</th>\n",
       "      <th></th>\n",
       "    </tr>\n",
       "  </thead>\n",
       "  <tbody>\n",
       "    <tr>\n",
       "      <th>2022-12-01</th>\n",
       "      <td>95.500000</td>\n",
       "    </tr>\n",
       "    <tr>\n",
       "      <th>2022-12-02</th>\n",
       "      <td>94.129997</td>\n",
       "    </tr>\n",
       "    <tr>\n",
       "      <th>2022-12-05</th>\n",
       "      <td>91.010002</td>\n",
       "    </tr>\n",
       "    <tr>\n",
       "      <th>2022-12-06</th>\n",
       "      <td>88.250000</td>\n",
       "    </tr>\n",
       "    <tr>\n",
       "      <th>2022-12-07</th>\n",
       "      <td>88.459999</td>\n",
       "    </tr>\n",
       "    <tr>\n",
       "      <th>...</th>\n",
       "      <td>...</td>\n",
       "    </tr>\n",
       "    <tr>\n",
       "      <th>2023-09-22</th>\n",
       "      <td>129.119995</td>\n",
       "    </tr>\n",
       "    <tr>\n",
       "      <th>2023-09-25</th>\n",
       "      <td>131.270004</td>\n",
       "    </tr>\n",
       "    <tr>\n",
       "      <th>2023-09-26</th>\n",
       "      <td>125.980003</td>\n",
       "    </tr>\n",
       "    <tr>\n",
       "      <th>2023-09-27</th>\n",
       "      <td>125.980003</td>\n",
       "    </tr>\n",
       "    <tr>\n",
       "      <th>2023-09-28</th>\n",
       "      <td>126.250000</td>\n",
       "    </tr>\n",
       "  </tbody>\n",
       "</table>\n",
       "<p>207 rows × 1 columns</p>\n",
       "</div>"
      ],
      "text/plain": [
       "                 Close\n",
       "Date                  \n",
       "2022-12-01   95.500000\n",
       "2022-12-02   94.129997\n",
       "2022-12-05   91.010002\n",
       "2022-12-06   88.250000\n",
       "2022-12-07   88.459999\n",
       "...                ...\n",
       "2023-09-22  129.119995\n",
       "2023-09-25  131.270004\n",
       "2023-09-26  125.980003\n",
       "2023-09-27  125.980003\n",
       "2023-09-28  126.250000\n",
       "\n",
       "[207 rows x 1 columns]"
      ]
     },
     "execution_count": 171,
     "metadata": {},
     "output_type": "execute_result"
    }
   ],
   "source": [
    "df"
   ]
  },
  {
   "cell_type": "code",
   "execution_count": 172,
   "metadata": {},
   "outputs": [
    {
     "data": {
      "text/plain": [
       "201    125.980003\n",
       "202    125.980003\n",
       "203    126.250000\n",
       "Name: Target, dtype: float64"
      ]
     },
     "execution_count": 172,
     "metadata": {},
     "output_type": "execute_result"
    }
   ],
   "source": [
    "req = windowed_df.tail(3)\n",
    "req['Target']"
   ]
  },
  {
   "cell_type": "code",
   "execution_count": 173,
   "metadata": {},
   "outputs": [],
   "source": [
    "inp = tuple(req['Target'])"
   ]
  },
  {
   "cell_type": "code",
   "execution_count": 174,
   "metadata": {},
   "outputs": [
    {
     "data": {
      "text/plain": [
       "(125.980003, 125.980003, 126.25)"
      ]
     },
     "execution_count": 174,
     "metadata": {},
     "output_type": "execute_result"
    }
   ],
   "source": [
    "inp"
   ]
  },
  {
   "cell_type": "code",
   "execution_count": 185,
   "metadata": {},
   "outputs": [
    {
     "name": "stdout",
     "output_type": "stream",
     "text": [
      "1/1 [==============================] - 0s 20ms/step\n"
     ]
    }
   ],
   "source": [
    "npin = np.asarray(inp)\n",
    "rs = npin.reshape(1, -1)\n",
    "stk_pred = model.predict(rs)"
   ]
  },
  {
   "cell_type": "code",
   "execution_count": 186,
   "metadata": {},
   "outputs": [
    {
     "data": {
      "text/plain": [
       "array([[125.53013]], dtype=float32)"
      ]
     },
     "execution_count": 186,
     "metadata": {},
     "output_type": "execute_result"
    }
   ],
   "source": [
    "stk_pred"
   ]
  },
  {
   "cell_type": "code",
   "execution_count": 192,
   "metadata": {},
   "outputs": [],
   "source": [
    "today = float(stk_pred)"
   ]
  },
  {
   "cell_type": "code",
   "execution_count": 181,
   "metadata": {},
   "outputs": [
    {
     "data": {
      "text/plain": [
       "125.5301284790039"
      ]
     },
     "execution_count": 181,
     "metadata": {},
     "output_type": "execute_result"
    }
   ],
   "source": [
    "today"
   ]
  },
  {
   "cell_type": "code",
   "execution_count": 195,
   "metadata": {},
   "outputs": [],
   "source": [
    "req1 = windowed_df.tail(2)\n",
    "tom = list(req1['Target'])"
   ]
  },
  {
   "cell_type": "code",
   "execution_count": 197,
   "metadata": {},
   "outputs": [],
   "source": [
    "tom = tom + [today,]"
   ]
  },
  {
   "cell_type": "code",
   "execution_count": 198,
   "metadata": {},
   "outputs": [
    {
     "data": {
      "text/plain": [
       "[125.980003, 126.25, 125.5301284790039]"
      ]
     },
     "execution_count": 198,
     "metadata": {},
     "output_type": "execute_result"
    }
   ],
   "source": [
    "tom"
   ]
  },
  {
   "cell_type": "code",
   "execution_count": 203,
   "metadata": {},
   "outputs": [],
   "source": [
    "tom1 = tuple(tom)"
   ]
  },
  {
   "cell_type": "code",
   "execution_count": 204,
   "metadata": {},
   "outputs": [
    {
     "data": {
      "text/plain": [
       "(125.980003, 126.25, 125.5301284790039)"
      ]
     },
     "execution_count": 204,
     "metadata": {},
     "output_type": "execute_result"
    }
   ],
   "source": [
    "tom1"
   ]
  },
  {
   "cell_type": "code",
   "execution_count": 205,
   "metadata": {},
   "outputs": [
    {
     "name": "stdout",
     "output_type": "stream",
     "text": [
      "1/1 [==============================] - 0s 19ms/step\n"
     ]
    }
   ],
   "source": [
    "npin = np.asarray(tom1)\n",
    "rs = npin.reshape(1, -1)\n",
    "tom_pred = model.predict(rs)"
   ]
  },
  {
   "cell_type": "code",
   "execution_count": 206,
   "metadata": {},
   "outputs": [
    {
     "data": {
      "text/plain": [
       "array([[125.04049]], dtype=float32)"
      ]
     },
     "execution_count": 206,
     "metadata": {},
     "output_type": "execute_result"
    }
   ],
   "source": [
    "tom_pred"
   ]
  }
 ],
 "metadata": {
  "kernelspec": {
   "display_name": "Python 3",
   "language": "python",
   "name": "python3"
  },
  "language_info": {
   "codemirror_mode": {
    "name": "ipython",
    "version": 3
   },
   "file_extension": ".py",
   "mimetype": "text/x-python",
   "name": "python",
   "nbconvert_exporter": "python",
   "pygments_lexer": "ipython3",
   "version": "3.11.0"
  },
  "orig_nbformat": 4
 },
 "nbformat": 4,
 "nbformat_minor": 2
}
